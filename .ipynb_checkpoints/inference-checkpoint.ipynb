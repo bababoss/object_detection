{
 "cells": [
  {
   "cell_type": "markdown",
   "metadata": {},
   "source": [
    "# Number plate recognition"
   ]
  },
  {
   "cell_type": "code",
   "execution_count": 1,
   "metadata": {},
   "outputs": [
    {
     "name": "stdout",
     "output_type": "stream",
     "text": [
      "/home/cogknit/experiments/dataset/rnpd_image_dataset/set8_0bf6113a02de4b0e9e12f260f23ac15b.jpg\n",
      "(1920, 1080)\n"
     ]
    },
    {
     "ename": "FileNotFoundError",
     "evalue": "[Errno 2] No such file or directory: '/home/cogknit/experiments/dataset/rnpd_image_dataset_crop/set8_0bf6113a02de4b0e9e12f260f23ac15b.jpg'",
     "output_type": "error",
     "traceback": [
      "\u001b[0;31m---------------------------------------------------------------------------\u001b[0m",
      "\u001b[0;31mFileNotFoundError\u001b[0m                         Traceback (most recent call last)",
      "\u001b[0;32m<ipython-input-1-5bf0489ac13b>\u001b[0m in \u001b[0;36m<module>\u001b[0;34m()\u001b[0m\n\u001b[1;32m     76\u001b[0m         \u001b[0;32mfor\u001b[0m \u001b[0mi\u001b[0m \u001b[0;32min\u001b[0m \u001b[0mrange\u001b[0m\u001b[0;34m(\u001b[0m\u001b[0mlen\u001b[0m\u001b[0;34m(\u001b[0m\u001b[0mimage_list\u001b[0m\u001b[0;34m)\u001b[0m\u001b[0;34m)\u001b[0m\u001b[0;34m:\u001b[0m\u001b[0;34m\u001b[0m\u001b[0m\n\u001b[1;32m     77\u001b[0m             \u001b[0mprint\u001b[0m\u001b[0;34m(\u001b[0m\u001b[0mimage_list\u001b[0m\u001b[0;34m[\u001b[0m\u001b[0mi\u001b[0m\u001b[0;34m]\u001b[0m\u001b[0;34m)\u001b[0m\u001b[0;34m\u001b[0m\u001b[0m\n\u001b[0;32m---> 78\u001b[0;31m             \u001b[0mget_rnpd\u001b[0m\u001b[0;34m(\u001b[0m\u001b[0mimage_list\u001b[0m\u001b[0;34m[\u001b[0m\u001b[0mi\u001b[0m\u001b[0;34m]\u001b[0m\u001b[0;34m)\u001b[0m\u001b[0;34m\u001b[0m\u001b[0m\n\u001b[0m\u001b[1;32m     79\u001b[0m             \u001b[0mcount\u001b[0m\u001b[0;34m+=\u001b[0m\u001b[0;36m1\u001b[0m\u001b[0;34m\u001b[0m\u001b[0m\n\u001b[1;32m     80\u001b[0m             \u001b[0;32mif\u001b[0m \u001b[0mcount\u001b[0m\u001b[0;34m==\u001b[0m\u001b[0;36m2\u001b[0m\u001b[0;34m:\u001b[0m\u001b[0;34m\u001b[0m\u001b[0m\n",
      "\u001b[0;32m<ipython-input-1-5bf0489ac13b>\u001b[0m in \u001b[0;36mget_rnpd\u001b[0;34m(impath)\u001b[0m\n\u001b[1;32m     35\u001b[0m     \u001b[0msave_path\u001b[0m\u001b[0;34m=\u001b[0m\u001b[0;34m\"/home/cogknit/experiments/dataset/rnpd_image_dataset_crop/\"\u001b[0m\u001b[0;34m+\u001b[0m\u001b[0mos\u001b[0m\u001b[0;34m.\u001b[0m\u001b[0mpath\u001b[0m\u001b[0;34m.\u001b[0m\u001b[0msplit\u001b[0m\u001b[0;34m(\u001b[0m\u001b[0mimpath\u001b[0m\u001b[0;34m)\u001b[0m\u001b[0;34m[\u001b[0m\u001b[0;34m-\u001b[0m\u001b[0;36m1\u001b[0m\u001b[0;34m]\u001b[0m\u001b[0;34m\u001b[0m\u001b[0m\n\u001b[1;32m     36\u001b[0m     \u001b[0;31m#cropped_image.save(save_path)\u001b[0m\u001b[0;34m\u001b[0m\u001b[0;34m\u001b[0m\u001b[0m\n\u001b[0;32m---> 37\u001b[0;31m     \u001b[0mimage\u001b[0m \u001b[0;34m=\u001b[0m \u001b[0mImage\u001b[0m\u001b[0;34m.\u001b[0m\u001b[0mopen\u001b[0m\u001b[0;34m(\u001b[0m\u001b[0msave_path\u001b[0m\u001b[0;34m)\u001b[0m\u001b[0;34m\u001b[0m\u001b[0m\n\u001b[0m\u001b[1;32m     38\u001b[0m \u001b[0;31m#     image = cv2.imread(save_path)\u001b[0m\u001b[0;34m\u001b[0m\u001b[0;34m\u001b[0m\u001b[0m\n\u001b[1;32m     39\u001b[0m     \u001b[0mplt\u001b[0m\u001b[0;34m.\u001b[0m\u001b[0mimshow\u001b[0m\u001b[0;34m(\u001b[0m\u001b[0mimage\u001b[0m\u001b[0;34m)\u001b[0m\u001b[0;34m\u001b[0m\u001b[0m\n",
      "\u001b[0;32m~/.local/lib/python3.5/site-packages/PIL/Image.py\u001b[0m in \u001b[0;36mopen\u001b[0;34m(fp, mode)\u001b[0m\n\u001b[1;32m   2546\u001b[0m \u001b[0;34m\u001b[0m\u001b[0m\n\u001b[1;32m   2547\u001b[0m     \u001b[0;32mif\u001b[0m \u001b[0mfilename\u001b[0m\u001b[0;34m:\u001b[0m\u001b[0;34m\u001b[0m\u001b[0m\n\u001b[0;32m-> 2548\u001b[0;31m         \u001b[0mfp\u001b[0m \u001b[0;34m=\u001b[0m \u001b[0mbuiltins\u001b[0m\u001b[0;34m.\u001b[0m\u001b[0mopen\u001b[0m\u001b[0;34m(\u001b[0m\u001b[0mfilename\u001b[0m\u001b[0;34m,\u001b[0m \u001b[0;34m\"rb\"\u001b[0m\u001b[0;34m)\u001b[0m\u001b[0;34m\u001b[0m\u001b[0m\n\u001b[0m\u001b[1;32m   2549\u001b[0m         \u001b[0mexclusive_fp\u001b[0m \u001b[0;34m=\u001b[0m \u001b[0;32mTrue\u001b[0m\u001b[0;34m\u001b[0m\u001b[0m\n\u001b[1;32m   2550\u001b[0m \u001b[0;34m\u001b[0m\u001b[0m\n",
      "\u001b[0;31mFileNotFoundError\u001b[0m: [Errno 2] No such file or directory: '/home/cogknit/experiments/dataset/rnpd_image_dataset_crop/set8_0bf6113a02de4b0e9e12f260f23ac15b.jpg'"
     ]
    }
   ],
   "source": [
    "# import the necessary packages\n",
    "import os\n",
    "#import cv2\n",
    "import argparse\n",
    "#import pytesseract\n",
    "from PIL import Image\n",
    "import glob,sys\n",
    "import matplotlib.pyplot as plt\n",
    "import numpy as np\n",
    "import subprocess\n",
    "#path='/home/gpu-machine/combined_data/4frame48.jpg'\n",
    "\n",
    "def get_rnpd(impath):\n",
    "\n",
    "    p = subprocess.Popen([\"./darknet\", \"detector\", \"test\", \"cfg/obj.data\", \"cfg/yolo-obj.cfg\", \"yolo-obj.weights \", impath], stdout=subprocess.PIPE)\n",
    "    pr=p.communicate()\n",
    "    input_image = Image.open(impath)\n",
    "    print(input_image.size)\n",
    "#     plt.imshow(input_image)\n",
    "#     plt.show()\n",
    "\n",
    "    #input_image = input_image.resize((1024, 720), Image.ANTIALIAS)\n",
    "    coordinates = []\n",
    "\n",
    "    with open('/home/cogknit/experiments/darknet_y2/result_coordinate.txt') as file:\n",
    "        for items in file:\n",
    "            coordinates=items.split(' ')\n",
    "            break\n",
    "\n",
    "\n",
    "\n",
    "    #print(coordinates)\n",
    "    #print(\" Coordinates Extracted \")\n",
    "    cropped_image = input_image.crop((int(coordinates[0]), int(coordinates[2]), int(coordinates[1]), int(coordinates[3])))\n",
    "    save_path=\"/home/cogknit/experiments/dataset/rnpd_image_dataset_crop/\"+os.path.split(impath)[-1]\n",
    "    cropped_image.save(save_path)\n",
    "    image = Image.open(save_path)\n",
    "#     image = cv2.imread(save_path)\n",
    "    plt.imshow(image)\n",
    "    plt.show()\n",
    "#    gray = cv2.cvtColor(image, cv2.COLOR_BGR2GRAY)\n",
    "\n",
    "        # Histogram equal for enhancing the number plate for further processing\n",
    "#     y,cr,cb = cv2.split(cv2.cvtColor(image,cv2.COLOR_RGB2YCrCb))\n",
    "#     # Converting the image to YCrCb model and splitting the 3 channels\n",
    "#     y = cv2.equalizeHist(y)\n",
    "#     # Applying histogram equalisation\n",
    "#     final_image = cv2.cvtColor(cv2.merge([y,cr,cb]),cv2.COLOR_YCrCb2BGR)\n",
    "#     gray=cv2.cvtColor(final_image,cv2.COLOR_BGR2GRAY)\n",
    "#     text=pytesseract.image_to_string(Image.fromarray(final_image))\n",
    "\n",
    "#     gray = cv2.threshold(gray, 0, 255,cv2.THRESH_BINARY | cv2.THRESH_OTSU)[1]\n",
    "#     gray = cv2.medianBlur(gray, 3)\n",
    "\n",
    "#     filename = \"{}.png\".format(os.getpid())\n",
    "#     cv2.imwrite(filename, gray)\n",
    "\n",
    "\n",
    "    #print(\" GaandFaad_NumberPlate Thresholded \")\n",
    "\n",
    "#     a = Image.open(filename)\n",
    "#     #print(\" Type of a  ----> \", type(a))\n",
    "\n",
    "#     text = pytesseract.image_to_string(gray)\n",
    "    #os.remove(filename)\n",
    "    print(\" GaandFaad_NumberPlate DETECTED ------> \")\n",
    "    return \"\"\n",
    "\n",
    "if __name__==\"__main__\":\n",
    "#         path='/home/gpu-machine/rnpd/darknet_gpu/test.txt'\n",
    "#         with open(path,'r') as f:\n",
    "#             image_list=f.read().split('\\n')\n",
    "        image_list=glob.glob(\"/home/cogknit/experiments/dataset/rnpd_image_dataset/*.jpg\")\n",
    "        count=0\n",
    "        \n",
    "        for i in range(len(image_list)):\n",
    "            print(image_list[i])\n",
    "            get_rnpd(image_list[i])\n",
    "            count+=1\n",
    "            if count==2:\n",
    "                break\n",
    "\n"
   ]
  },
  {
   "cell_type": "markdown",
   "metadata": {},
   "source": [
    "# CLean data for training"
   ]
  },
  {
   "cell_type": "code",
   "execution_count": null,
   "metadata": {},
   "outputs": [],
   "source": [
    "from shutil import copyfile\n",
    "import glob,os\n",
    "# copyfile(src, dst)\n",
    "src=\"/home/cogknit/experiments/dataset/new_900_dataset_label/001/001/\"\n",
    "dst=\"/home/cogknit/experiments/dataset/clean_label_660/\"\n",
    "im_src=\"/home/cogknit/experiments/dataset/900_dataset_crop/\"\n",
    "im_dst=\"/home/cogknit/experiments/dataset/final_dataset_crop_660/\"\n",
    "\n",
    "labe_data=glob.glob(src+'*.txt')\n",
    "count=0\n",
    "for i in labe_data:\n",
    "    name=os.path.split(i)[-1].split('.')[0]\n",
    "    #print(name)\n",
    "    #copyfile(src+name+'.jpg', dst+name+'.jpg')\n",
    "    #copyfile(i, dst+name+'.txt')\n",
    "\n",
    "    with open(i) as f:\n",
    "        content = f.readlines()\n",
    "        content = [x.strip() for x in content] \n",
    "        if  content and content[0][0]=='1':\n",
    "            count+=1\n",
    "            #print(\"adada: \",content)\n",
    "            copyfile(im_src+name+'.jpg', im_dst+name+'.jpg')\n",
    "            #copyfile(src+name+'.label', dst+name+'.label')\n",
    "print(count)\n",
    "    "
   ]
  },
  {
   "cell_type": "code",
   "execution_count": null,
   "metadata": {},
   "outputs": [],
   "source": [
    "import glob,os\n",
    "from PIL import Image\n",
    "path=\"/home/cogknit/experiments/dataset/900_dataset_crop/\"\n",
    "l=glob.glob(path+'*.jpg')\n",
    "print(l[0])\n",
    "\n",
    "try:\n",
    "    img = Image.open(l[1]) # open the image file\n",
    "    #print(img.verify()) # verify that it is, in fact an image\n",
    "    plt.imshow(img)\n",
    "    plt.show()\n",
    "except (IOError, SyntaxError) as e:\n",
    "    print('Bad file:', filename) # print out the names of corrupt files"
   ]
  },
  {
   "cell_type": "code",
   "execution_count": null,
   "metadata": {},
   "outputs": [],
   "source": []
  }
 ],
 "metadata": {
  "kernelspec": {
   "display_name": "Python 3",
   "language": "python",
   "name": "python3"
  },
  "language_info": {
   "codemirror_mode": {
    "name": "ipython",
    "version": 3
   },
   "file_extension": ".py",
   "mimetype": "text/x-python",
   "name": "python",
   "nbconvert_exporter": "python",
   "pygments_lexer": "ipython3",
   "version": "3.5.2"
  }
 },
 "nbformat": 4,
 "nbformat_minor": 2
}
